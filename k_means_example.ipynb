{
 "cells": [
  {
   "cell_type": "code",
   "execution_count": 1,
   "metadata": {},
   "outputs": [],
   "source": [
    "import findspark\n",
    "findspark.init('/home/siddharth/spark-2.4.1-bin-hadoop2.7/')\n",
    "\n",
    "from pyspark.sql import SparkSession"
   ]
  },
  {
   "cell_type": "code",
   "execution_count": 2,
   "metadata": {},
   "outputs": [],
   "source": [
    "spark = SparkSession.builder.appName('kmeans_example').getOrCreate()"
   ]
  },
  {
   "cell_type": "code",
   "execution_count": 3,
   "metadata": {},
   "outputs": [],
   "source": [
    "data = spark.read.csv('./Python-and-Spark-for-Big-Data-master/Spark_for_Machine_Learning/Clustering/seeds_dataset.csv',inferSchema=True,header=True)"
   ]
  },
  {
   "cell_type": "code",
   "execution_count": 4,
   "metadata": {},
   "outputs": [
    {
     "data": {
      "text/plain": [
       "['area',\n",
       " 'perimeter',\n",
       " 'compactness',\n",
       " 'length_of_kernel',\n",
       " 'width_of_kernel',\n",
       " 'asymmetry_coefficient',\n",
       " 'length_of_groove']"
      ]
     },
     "execution_count": 4,
     "metadata": {},
     "output_type": "execute_result"
    }
   ],
   "source": [
    "data.columns"
   ]
  },
  {
   "cell_type": "code",
   "execution_count": 5,
   "metadata": {},
   "outputs": [
    {
     "name": "stdout",
     "output_type": "stream",
     "text": [
      "root\n",
      " |-- area: double (nullable = true)\n",
      " |-- perimeter: double (nullable = true)\n",
      " |-- compactness: double (nullable = true)\n",
      " |-- length_of_kernel: double (nullable = true)\n",
      " |-- width_of_kernel: double (nullable = true)\n",
      " |-- asymmetry_coefficient: double (nullable = true)\n",
      " |-- length_of_groove: double (nullable = true)\n",
      "\n"
     ]
    }
   ],
   "source": [
    "data.printSchema()"
   ]
  },
  {
   "cell_type": "code",
   "execution_count": 6,
   "metadata": {},
   "outputs": [],
   "source": [
    "from pyspark.ml.clustering import KMeans\n",
    "from pyspark.ml.feature import StandardScaler,VectorAssembler"
   ]
  },
  {
   "cell_type": "code",
   "execution_count": 7,
   "metadata": {},
   "outputs": [],
   "source": [
    "assembler = VectorAssembler(inputCols=data.columns,outputCol='unscaled_feat')"
   ]
  },
  {
   "cell_type": "code",
   "execution_count": 8,
   "metadata": {},
   "outputs": [
    {
     "name": "stdout",
     "output_type": "stream",
     "text": [
      "+--------------------+\n",
      "|       unscaled_feat|\n",
      "+--------------------+\n",
      "|[15.26,14.84,0.87...|\n",
      "|[14.88,14.57,0.88...|\n",
      "|[14.29,14.09,0.90...|\n",
      "|[13.84,13.94,0.89...|\n",
      "|[16.14,14.99,0.90...|\n",
      "|[14.38,14.21,0.89...|\n",
      "|[14.69,14.49,0.87...|\n",
      "|[14.11,14.1,0.891...|\n",
      "|[16.63,15.46,0.87...|\n",
      "|[16.44,15.25,0.88...|\n",
      "|[15.26,14.85,0.86...|\n",
      "|[14.03,14.16,0.87...|\n",
      "|[13.89,14.02,0.88...|\n",
      "|[13.78,14.06,0.87...|\n",
      "|[13.74,14.05,0.87...|\n",
      "|[14.59,14.28,0.89...|\n",
      "|[13.99,13.83,0.91...|\n",
      "|[15.69,14.75,0.90...|\n",
      "|[14.7,14.21,0.915...|\n",
      "|[12.72,13.57,0.86...|\n",
      "+--------------------+\n",
      "only showing top 20 rows\n",
      "\n"
     ]
    }
   ],
   "source": [
    "df = assembler.transform(data).select('unscaled_feat')\n",
    "df.show()"
   ]
  },
  {
   "cell_type": "code",
   "execution_count": 9,
   "metadata": {},
   "outputs": [],
   "source": [
    "scaler = StandardScaler(inputCol='unscaled_feat',outputCol='features')"
   ]
  },
  {
   "cell_type": "code",
   "execution_count": 10,
   "metadata": {},
   "outputs": [],
   "source": [
    "df_scaled = scaler.fit(df).transform(df)"
   ]
  },
  {
   "cell_type": "code",
   "execution_count": 11,
   "metadata": {},
   "outputs": [],
   "source": [
    "kmeans = KMeans(featuresCol='features',k=3,seed=24)"
   ]
  },
  {
   "cell_type": "code",
   "execution_count": 12,
   "metadata": {},
   "outputs": [],
   "source": [
    "kmeans_model = kmeans.fit(df_scaled)"
   ]
  },
  {
   "cell_type": "code",
   "execution_count": 13,
   "metadata": {},
   "outputs": [
    {
     "data": {
      "text/plain": [
       "429.07559671506715"
      ]
     },
     "execution_count": 13,
     "metadata": {},
     "output_type": "execute_result"
    }
   ],
   "source": [
    "kmeans_model.computeCost(df_scaled)"
   ]
  },
  {
   "cell_type": "code",
   "execution_count": 14,
   "metadata": {},
   "outputs": [],
   "source": [
    "df_labeled = kmeans_model.transform(df_scaled)"
   ]
  },
  {
   "cell_type": "code",
   "execution_count": 15,
   "metadata": {},
   "outputs": [
    {
     "name": "stdout",
     "output_type": "stream",
     "text": [
      "+--------------------+--------------------+----------+\n",
      "|       unscaled_feat|            features|prediction|\n",
      "+--------------------+--------------------+----------+\n",
      "|[15.26,14.84,0.87...|[5.24452795332028...|         1|\n",
      "|[14.88,14.57,0.88...|[5.11393027165175...|         1|\n",
      "|[14.29,14.09,0.90...|[4.91116018695588...|         1|\n",
      "|[13.84,13.94,0.89...|[4.75650503761158...|         1|\n",
      "|[16.14,14.99,0.90...|[5.54696468981581...|         1|\n",
      "|[14.38,14.21,0.89...|[4.94209121682475...|         1|\n",
      "|[14.69,14.49,0.87...|[5.04863143081749...|         1|\n",
      "|[14.11,14.1,0.891...|[4.84929812721816...|         1|\n",
      "|[16.63,15.46,0.87...|[5.71536696354628...|         0|\n",
      "|[16.44,15.25,0.88...|[5.65006812271202...|         0|\n",
      "|[15.26,14.85,0.86...|[5.24452795332028...|         1|\n",
      "|[14.03,14.16,0.87...|[4.82180387844584...|         1|\n",
      "|[13.89,14.02,0.88...|[4.77368894309428...|         1|\n",
      "|[13.78,14.06,0.87...|[4.73588435103234...|         1|\n",
      "|[13.74,14.05,0.87...|[4.72213722664617...|         1|\n",
      "|[14.59,14.28,0.89...|[5.01426361985209...|         1|\n",
      "|[13.99,13.83,0.91...|[4.80805675405968...|         1|\n",
      "|[15.69,14.75,0.90...|[5.39230954047151...|         1|\n",
      "|[14.7,14.21,0.915...|[5.05206821191403...|         1|\n",
      "|[12.72,13.57,0.86...|[4.37158555479908...|         2|\n",
      "+--------------------+--------------------+----------+\n",
      "only showing top 20 rows\n",
      "\n"
     ]
    }
   ],
   "source": [
    "df_labeled.show()"
   ]
  },
  {
   "cell_type": "code",
   "execution_count": null,
   "metadata": {},
   "outputs": [],
   "source": []
  }
 ],
 "metadata": {
  "kernelspec": {
   "display_name": "Python 3",
   "language": "python",
   "name": "python3"
  },
  "language_info": {
   "codemirror_mode": {
    "name": "ipython",
    "version": 3
   },
   "file_extension": ".py",
   "mimetype": "text/x-python",
   "name": "python",
   "nbconvert_exporter": "python",
   "pygments_lexer": "ipython3",
   "version": "3.6.5"
  }
 },
 "nbformat": 4,
 "nbformat_minor": 2
}
